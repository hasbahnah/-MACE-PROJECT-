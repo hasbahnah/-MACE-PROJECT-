{
  "nbformat": 4,
  "nbformat_minor": 0,
  "metadata": {
    "colab": {
      "provenance": [],
      "gpuType": "T4",
      "mount_file_id": "1aoMZb8MOe9GgDco-A2ixkTEzgGqbiyT5",
      "authorship_tag": "ABX9TyPgWyMBlitCiP/2G2e1274u",
      "include_colab_link": true
    },
    "kernelspec": {
      "name": "python3",
      "display_name": "Python 3"
    },
    "language_info": {
      "name": "python"
    },
    "accelerator": "GPU"
  },
  "cells": [
    {
      "cell_type": "markdown",
      "metadata": {
        "id": "view-in-github",
        "colab_type": "text"
      },
      "source": [
        "<a href=\"https://colab.research.google.com/github/hasbahnah/-MACE-PROJECT-/blob/main/lammps_to_mace.ipynb\" target=\"_parent\"><img src=\"https://colab.research.google.com/assets/colab-badge.svg\" alt=\"Open In Colab\"/></a>"
      ]
    },
    {
      "cell_type": "code",
      "source": [
        "from ase.io import read\n",
        "import numpy as np"
      ],
      "metadata": {
        "id": "go9htm3FwHur"
      },
      "execution_count": 1,
      "outputs": []
    },
    {
      "cell_type": "code",
      "source": [
        "\n",
        "\n",
        "def write_mace_xyz(atoms_list, energies, filename):\n",
        "    with open(filename, 'w') as f:\n",
        "        for i, atoms in enumerate(atoms_list):\n",
        "            # Number of atoms\n",
        "            f.write(f\"{len(atoms)}\\n\")\n",
        "\n",
        "            # Header line with energy and lattice\n",
        "            cell = atoms.get_cell()\n",
        "            lattice = f\"Lattice=\\\"{cell[0,0]:.8f} {cell[0,1]:.8f} {cell[0,2]:.8f} {cell[1,0]:.8f} {cell[1,1]:.8f} {cell[1,2]:.8f} {cell[2,0]:.8f} {cell[2,1]:.8f} {cell[2,2]:.8f}\\\"\"\n",
        "            f.write(f\"TotEnergy={energies[i]:.8f} cutoff=-1.00000000 nneightol=1.20000000 pbc=\\\"T T T\\\" {lattice} Properties=species:S:1:pos:R:3:force:R:3:Z:I:1\\n\")\n",
        "\n",
        "            positions = atoms.get_positions()\n",
        "\n",
        "            # Read forces and correct atom types from the dump file\n",
        "            with open('trajectory.dump', 'r') as f_dump:\n",
        "                lines = f_dump.readlines()\n",
        "                natoms = len(atoms)\n",
        "                forces = np.zeros((natoms, 3))\n",
        "                atom_types = []  # To store correct atom types\n",
        "\n",
        "                # Find the correct frame\n",
        "                frame_start = None\n",
        "                for j, line in enumerate(lines):\n",
        "                    if 'ITEM: ATOMS' in line:\n",
        "                        frame_start = j + 1\n",
        "                        if i == 0:  # First frame\n",
        "                            break\n",
        "                        i -= 1\n",
        "\n",
        "                # Read forces and atom types for this frame\n",
        "                for j in range(natoms):\n",
        "                    line = lines[frame_start + j].split()\n",
        "                    atom_type = int(line[1])  # LAMMPS atom type (1 or 2)\n",
        "                    # Convert LAMMPS type to actual atom symbol\n",
        "                    symbol = 'O' if atom_type == 1 else 'H'  # Type 1 is O, Type 2 is H\n",
        "                    atom_types.append(symbol)\n",
        "                    forces[j] = [float(x) for x in line[5:8]]\n",
        "\n",
        "            # Write atomic data with correct atom types\n",
        "            for j in range(len(atoms)):\n",
        "                Z = 8 if atom_types[j] == 'O' else 1\n",
        "                f.write(f\"{atom_types[j]:2s} {positions[j,0]:15.8f} {positions[j,1]:15.8f} {positions[j,2]:15.8f} {forces[j,0]:15.8f} {forces[j,1]:15.8f} {forces[j,2]:15.8f} {Z:3d}\\n\")\n",
        "\n",
        "# Read LAMMPS trajectory\n",
        "print(\"Reading LAMMPS trajectory...\")\n",
        "atoms = read('trajectory.dump', format='lammps-dump-text', index=':')\n",
        "print(f\"Read {len(atoms)} frames\")\n",
        "\n",
        "print(\"Reading energies...\")\n",
        "energies = np.loadtxt('energy.dat')\n",
        "print(f\"Read {len(energies)} energy values\")\n",
        "\n",
        "# Debug information\n",
        "print(\"\\nChecking first frame:\")\n",
        "print(\"Available arrays:\", list(atoms[0].arrays.keys()))\n",
        "\n",
        "# Write custom extended XYZ\n",
        "print(\"\\nWriting extended XYZ file...\")\n",
        "write_mace_xyz(atoms, energies, 'traj1.extxyz')\n",
        "print(\"Done!\")"
      ],
      "metadata": {
        "colab": {
          "base_uri": "https://localhost:8080/"
        },
        "id": "ACn6XUbuwKuH",
        "outputId": "584917d6-1e30-4316-88f8-8fa6f52aaee6"
      },
      "execution_count": 2,
      "outputs": [
        {
          "output_type": "stream",
          "name": "stdout",
          "text": [
            "Reading LAMMPS trajectory...\n",
            "Read 6 frames\n",
            "Reading energies...\n",
            "Read 6 energy values\n",
            "\n",
            "Checking first frame:\n",
            "Available arrays: ['numbers', 'positions']\n",
            "\n",
            "Writing extended XYZ file...\n",
            "Done!\n"
          ]
        }
      ]
    },
    {
      "cell_type": "code",
      "source": [],
      "metadata": {
        "id": "VXt45fCqwYC_"
      },
      "execution_count": null,
      "outputs": []
    }
  ]
}